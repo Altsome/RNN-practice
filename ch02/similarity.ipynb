{
 "cells": [
  {
   "cell_type": "code",
   "execution_count": 24,
   "metadata": {},
   "outputs": [
    {
     "name": "stdout",
     "output_type": "stream",
     "text": [
      "0.7071067691154799\n"
     ]
    }
   ],
   "source": [
    "import sys\n",
    "sys.path.append(\"..\")\n",
    "from common.util import *\n",
    "\n",
    "text = \"You say goodbye and i say hello.\"\n",
    "corpus, word_to_id, id_to_word = preprocess(text)   # 텍스트 전처리:  corpus\n",
    "vocab_size = len(word_to_id)    # 단어 개수 for 행렬 크기 설정\n",
    "co_matrix = create_co_matrix(corpus, vocab_size)\n",
    "ppmi_matrix = ppmi(co_matrix, verbose = False)\n",
    "\n",
    "\n",
    "c_you = co_matrix[word_to_id[\"you\"]]\n",
    "c_i = co_matrix[word_to_id[\"i\"]]\n",
    "\n",
    "print(cos_similarity(c_you, c_i))\n"
   ]
  },
  {
   "cell_type": "code",
   "execution_count": 25,
   "metadata": {},
   "outputs": [
    {
     "name": "stdout",
     "output_type": "stream",
     "text": [
      "[[0 1 0 0 0 0 0]\n",
      " [1 0 1 0 1 1 0]\n",
      " [0 1 0 1 0 0 0]\n",
      " [0 0 1 0 1 0 0]\n",
      " [0 1 0 1 0 0 0]\n",
      " [0 1 0 0 0 0 1]\n",
      " [0 0 0 0 0 1 0]]\n",
      "\n",
      "[query] you\n",
      " goodbye: 0.7071067691154799\n",
      " i: 0.7071067691154799\n",
      " hello: 0.7071067691154799\n",
      " say: 0.0\n",
      " and: 0.0\n"
     ]
    }
   ],
   "source": [
    "print(co_matrix)\n",
    "most_similar(\"you\", word_to_id, id_to_word, co_matrix, top=5)"
   ]
  },
  {
   "cell_type": "code",
   "execution_count": 28,
   "metadata": {},
   "outputs": [
    {
     "name": "stdout",
     "output_type": "stream",
     "text": [
      "[[0.        1.8073549 0.        0.        0.        0.        0.       ]\n",
      " [1.8073549 0.        0.8073549 0.        0.8073549 0.8073549 0.       ]\n",
      " [0.        0.8073549 0.        1.8073549 0.        0.        0.       ]\n",
      " [0.        0.        1.8073549 0.        1.8073549 0.        0.       ]\n",
      " [0.        0.8073549 0.        1.8073549 0.        0.        0.       ]\n",
      " [0.        0.8073549 0.        0.        0.        0.        2.807355 ]\n",
      " [0.        0.        0.        0.        0.        2.807355  0.       ]]\n",
      "\n",
      "[query] you\n",
      " goodbye: 0.40786147117614746\n",
      " i: 0.40786147117614746\n",
      " hello: 0.2763834297657013\n",
      " say: 0.0\n",
      " and: 0.0\n"
     ]
    }
   ],
   "source": [
    "print(ppmi_matrix)\n",
    "most_similar(\"you\", word_to_id, id_to_word, ppmi_matrix, top=5)"
   ]
  },
  {
   "cell_type": "code",
   "execution_count": 29,
   "metadata": {},
   "outputs": [
    {
     "name": "stdout",
     "output_type": "stream",
     "text": [
      "(7, 7)\n",
      "(7,)\n",
      "(7, 7)\n"
     ]
    }
   ],
   "source": [
    "# 차원 줄이기(by SVD)\n",
    "U, S, V = np.linalg.svd(ppmi_matrix)\n",
    "\n",
    "print(U.shape)\n",
    "print(S.shape)  # 대각행렬이여서 1차원으로도 저장 가능\n",
    "print(V.shape)"
   ]
  }
 ],
 "metadata": {
  "kernelspec": {
   "display_name": "base",
   "language": "python",
   "name": "python3"
  },
  "language_info": {
   "codemirror_mode": {
    "name": "ipython",
    "version": 3
   },
   "file_extension": ".py",
   "mimetype": "text/x-python",
   "name": "python",
   "nbconvert_exporter": "python",
   "pygments_lexer": "ipython3",
   "version": "3.11.9"
  }
 },
 "nbformat": 4,
 "nbformat_minor": 2
}
